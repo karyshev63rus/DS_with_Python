{
 "cells": [
  {
   "cell_type": "markdown",
   "metadata": {},
   "source": [
    "# НАУКА О ДАННЫХ НА ЯЗЫКЕ PYTHON\n",
    "\n",
    "## (DATA SCIENCE WITH PYTHON)"
   ]
  },
  {
   "cell_type": "markdown",
   "metadata": {},
   "source": [
    "## Стек научных библиотек"
   ]
  },
  {
   "cell_type": "markdown",
   "metadata": {},
   "source": [
    "## numpy - алгебраические операции с массивами\n",
    "## pandas - манипулирование данными\n",
    "## matplotlib - визуализация\n",
    "## scikit-learn - машинное обучение"
   ]
  },
  {
   "cell_type": "code",
   "execution_count": null,
   "metadata": {
    "collapsed": true
   },
   "outputs": [],
   "source": []
  },
  {
   "cell_type": "markdown",
   "metadata": {},
   "source": [
    "# 1. Что там \"под капотом\"? Некоторые возможности библиотеки ***numpy***"
   ]
  },
  {
   "cell_type": "markdown",
   "metadata": {
    "collapsed": true
   },
   "source": [
    "### 1.1. Импортируем библиотеку ***numpy***"
   ]
  },
  {
   "cell_type": "code",
   "execution_count": 1,
   "metadata": {
    "collapsed": true
   },
   "outputs": [],
   "source": [
    "import numpy as np"
   ]
  },
  {
   "cell_type": "markdown",
   "metadata": {},
   "source": [
    "### 1.2. Создаем объекты ***numpy***: \n",
    "### 1.2.1. Векторы (одномерные массивы)"
   ]
  },
  {
   "cell_type": "code",
   "execution_count": 2,
   "metadata": {},
   "outputs": [
    {
     "data": {
      "text/plain": [
       "array([ 0.,  0.,  0.,  0.,  0.])"
      ]
     },
     "execution_count": 2,
     "metadata": {},
     "output_type": "execute_result"
    }
   ],
   "source": [
    "# СОЗДАЕМ \"НУЛЕВОЙ\" ВЕКТОР (ДЛИНОЙ 5)\n",
    "np.zeros(5)"
   ]
  },
  {
   "cell_type": "code",
   "execution_count": 3,
   "metadata": {},
   "outputs": [
    {
     "data": {
      "text/plain": [
       "array([ 1.,  1.,  1.,  1.,  1.,  1.,  1.])"
      ]
     },
     "execution_count": 3,
     "metadata": {},
     "output_type": "execute_result"
    }
   ],
   "source": [
    "# СОЗДАЕМ \"ЕДИНИЧНЫЙ\" ВЕКТОР (ДЛИНОЙ 7)\n",
    "np.ones(7)"
   ]
  },
  {
   "cell_type": "code",
   "execution_count": 4,
   "metadata": {},
   "outputs": [
    {
     "data": {
      "text/plain": [
       "array([0, 1, 2, 3, 4, 5, 6, 7, 8])"
      ]
     },
     "execution_count": 4,
     "metadata": {},
     "output_type": "execute_result"
    }
   ],
   "source": [
    "# СОЗДАЕМ ВЕКТОР ЗНАЧЕНИЙ ОТ 0 ДО 8 (ДЛИНОЙ 9)\n",
    "np.arange(9)"
   ]
  },
  {
   "cell_type": "code",
   "execution_count": 5,
   "metadata": {},
   "outputs": [
    {
     "data": {
      "text/plain": [
       "array([ 0.52477823,  0.1614405 ,  0.97844511,  0.37169282,  0.04301004,\n",
       "        0.59113775,  0.40316717,  0.69400921,  0.94844295,  0.52484086,\n",
       "        0.7385348 ,  0.36341472,  0.68356777,  0.90097992,  0.64403152])"
      ]
     },
     "execution_count": 5,
     "metadata": {},
     "output_type": "execute_result"
    }
   ],
   "source": [
    "# СОЗДАЕМ ВЕКТОР СЛУЧАЙНЫХ ЗНАЧЕНИЙ (ДЛИНОЙ 15)\n",
    "np.random.random(15)"
   ]
  },
  {
   "cell_type": "markdown",
   "metadata": {},
   "source": [
    "### 1.2.2. Матрицы (двумерные массивы)"
   ]
  },
  {
   "cell_type": "code",
   "execution_count": 6,
   "metadata": {},
   "outputs": [
    {
     "data": {
      "text/plain": [
       "array([[ 1.,  1.,  1.,  1.,  1.,  1.,  1.],\n",
       "       [ 1.,  1.,  1.,  1.,  1.,  1.,  1.],\n",
       "       [ 1.,  1.,  1.,  1.,  1.,  1.,  1.],\n",
       "       [ 1.,  1.,  1.,  1.,  1.,  1.,  1.],\n",
       "       [ 1.,  1.,  1.,  1.,  1.,  1.,  1.]])"
      ]
     },
     "execution_count": 6,
     "metadata": {},
     "output_type": "execute_result"
    }
   ],
   "source": [
    "# СОЗДАЕМ \"ЕДИНИЧНУЮ\" МАТРИЦУ (РАЗМЕРНОСТЬЮ 5 Х 7)\n",
    "np.ones(35).reshape(5,7)"
   ]
  },
  {
   "cell_type": "code",
   "execution_count": 7,
   "metadata": {},
   "outputs": [
    {
     "data": {
      "text/plain": [
       "array([[ 3.14,  3.14,  3.14,  3.14,  3.14],\n",
       "       [ 3.14,  3.14,  3.14,  3.14,  3.14],\n",
       "       [ 3.14,  3.14,  3.14,  3.14,  3.14]])"
      ]
     },
     "execution_count": 7,
     "metadata": {},
     "output_type": "execute_result"
    }
   ],
   "source": [
    "# СОЗДАЕМ МАТРИЦУ С ВЫБРАННЫМ ЗНАЧЕНИЕМ (РАЗМЕРНОСТЬЮ 3 Х 5)\n",
    "np.full((3,5), 3.14)"
   ]
  },
  {
   "cell_type": "code",
   "execution_count": 8,
   "metadata": {},
   "outputs": [
    {
     "data": {
      "text/plain": [
       "array([[-0.01652478, -0.59622377,  0.49781535,  0.18118042, -2.29133124],\n",
       "       [ 0.42322411, -2.14253071,  1.5323083 ,  1.33433936, -0.1910324 ],\n",
       "       [ 0.34541381, -0.8155812 , -1.05064861,  0.20565215,  0.36088226]])"
      ]
     },
     "execution_count": 8,
     "metadata": {},
     "output_type": "execute_result"
    }
   ],
   "source": [
    "# СОЗДАЕМ МАТРИЦУ СЛУЧАЙНЫХ ЗНАЧЕНИЙ (РАЗМЕРНОСТЬЮ 3 Х 5)\n",
    "np.random.normal(0,1,15).reshape(3,5)"
   ]
  },
  {
   "cell_type": "markdown",
   "metadata": {},
   "source": [
    "### 1.2.3. Тензоры (многомерные массивы)"
   ]
  },
  {
   "cell_type": "code",
   "execution_count": 9,
   "metadata": {},
   "outputs": [
    {
     "data": {
      "text/plain": [
       "array([[[ 11.64455918,  10.55346591,  11.46241239,  10.77668277],\n",
       "        [  7.35949493,  10.28646733,   9.23120875,  10.74785863],\n",
       "        [  9.79953406,   9.06923475,   8.60714169,  11.85630274]],\n",
       "\n",
       "       [[  8.82303007,  11.19909734,   8.42270933,   9.70379025],\n",
       "        [  9.5838579 ,  11.68848544,  10.08481226,  11.66685154],\n",
       "        [ 10.62880475,   8.81601184,  11.95948984,  10.92007307]]])"
      ]
     },
     "execution_count": 9,
     "metadata": {},
     "output_type": "execute_result"
    }
   ],
   "source": [
    "# СОЗДАЕМ МАССИВ ИЗ СЛУЧАЙНОЙ ВЫБОРКИ НОРМАЛЬНО РАСПРЕДЕЛЕННЫХ ЧИСЕЛ В ДИАПАЗОНЕ 10 \n",
    "# (РАЗМЕРНОСТЬЮ 2 х 3 х 4: МАССИВ ИЗ ДВУХ МАТРИЦ РАЗМЕРНОСТЬЮ 3 х 4) \n",
    "np.random.normal(10, size=(2, 3, 4))"
   ]
  },
  {
   "cell_type": "code",
   "execution_count": 10,
   "metadata": {},
   "outputs": [
    {
     "data": {
      "text/plain": [
       "array([[[[1, 1, 4, 0, 9],\n",
       "         [4, 4, 9, 3, 1],\n",
       "         [0, 4, 1, 9, 8],\n",
       "         [9, 7, 3, 5, 4]],\n",
       "\n",
       "        [[4, 5, 1, 3, 7],\n",
       "         [3, 9, 4, 4, 9],\n",
       "         [8, 0, 5, 9, 4],\n",
       "         [8, 8, 0, 4, 4]],\n",
       "\n",
       "        [[9, 4, 1, 0, 2],\n",
       "         [6, 2, 0, 0, 7],\n",
       "         [1, 2, 8, 7, 5],\n",
       "         [7, 1, 9, 3, 6]]],\n",
       "\n",
       "\n",
       "       [[[4, 2, 6, 2, 7],\n",
       "         [5, 1, 8, 3, 8],\n",
       "         [5, 9, 1, 8, 9],\n",
       "         [8, 2, 5, 7, 0]],\n",
       "\n",
       "        [[1, 0, 9, 9, 4],\n",
       "         [4, 0, 7, 6, 2],\n",
       "         [4, 1, 2, 5, 8],\n",
       "         [1, 9, 3, 4, 7]],\n",
       "\n",
       "        [[6, 7, 8, 6, 5],\n",
       "         [9, 7, 9, 5, 9],\n",
       "         [7, 0, 6, 1, 1],\n",
       "         [1, 6, 4, 6, 0]]]])"
      ]
     },
     "execution_count": 10,
     "metadata": {},
     "output_type": "execute_result"
    }
   ],
   "source": [
    "# СОЗДАЕМ МАССИВ ИЗ СЛУЧАЙНОЙ ВЫБОРКИ ЦЕЛЫХ ЧИСЕЛ В ТОМ ЖЕ ДИАПАЗОНЕ 10 \n",
    "# (РАЗМЕРНОСТЬЮ 2 х 3 х 4 х 5: ДВА МАССИВА ПО ТРИ МАТРИЦЫ РАЗМЕРНОСТЬЮ 4 Х 5)\n",
    "np.random.randint(10, size=(2, 3, 4, 5))"
   ]
  },
  {
   "cell_type": "markdown",
   "metadata": {},
   "source": [
    "### 1.3. Получение информации об объектах ***numpy***"
   ]
  },
  {
   "cell_type": "code",
   "execution_count": 11,
   "metadata": {},
   "outputs": [
    {
     "data": {
      "text/plain": [
       "array([[ 2,  6, 10, 14, 18],\n",
       "       [22, 26, 30, 34, 38],\n",
       "       [42, 46, 50, 54, 58],\n",
       "       [62, 66, 70, 74, 78],\n",
       "       [82, 86, 90, 94, 98]])"
      ]
     },
     "execution_count": 11,
     "metadata": {},
     "output_type": "execute_result"
    }
   ],
   "source": [
    "# СОЗДАЕМ МАССИВ (РАЗМЕРНОСТЬЮ 5 x 5 ИЗ СГЕНЕРИРОВАННЫХ ЗНАЧЕНИЙ В ДИАПАЗОНЕ [2:100) С ШАГОМ 2)\n",
    "X = np.array([i for i in range(2,100, 4)]).reshape(5, 5)\n",
    "X"
   ]
  },
  {
   "cell_type": "code",
   "execution_count": 12,
   "metadata": {},
   "outputs": [
    {
     "data": {
      "text/plain": [
       "2"
      ]
     },
     "execution_count": 12,
     "metadata": {},
     "output_type": "execute_result"
    }
   ],
   "source": [
    "# ВЫВОДИМ РАЗМЕРНОСТЬ МАССИВА (ЧИСЛО ИЗМЕРЕНИЙ)\n",
    "X.ndim"
   ]
  },
  {
   "cell_type": "code",
   "execution_count": 13,
   "metadata": {},
   "outputs": [
    {
     "data": {
      "text/plain": [
       "25"
      ]
     },
     "execution_count": 13,
     "metadata": {},
     "output_type": "execute_result"
    }
   ],
   "source": [
    "# ВЫВОДИМ ОБЪЕМ МАССИВА (ЧИСЛО ЕДИНИЦ)\n",
    "X.size"
   ]
  },
  {
   "cell_type": "code",
   "execution_count": 14,
   "metadata": {},
   "outputs": [
    {
     "data": {
      "text/plain": [
       "(5, 5)"
      ]
     },
     "execution_count": 14,
     "metadata": {},
     "output_type": "execute_result"
    }
   ],
   "source": [
    "# ВЫВОДИМ ФОРМАТ МАССИВА (ЧИСЛО СТРОК Х ЧИСЛО СТОЛБЦОВ)\n",
    "X.shape"
   ]
  },
  {
   "cell_type": "code",
   "execution_count": 15,
   "metadata": {},
   "outputs": [
    {
     "data": {
      "text/plain": [
       "dtype('int32')"
      ]
     },
     "execution_count": 15,
     "metadata": {},
     "output_type": "execute_result"
    }
   ],
   "source": [
    "# ВЫВОДИМ ТИП ПЕРЕМЕННОЙ, ЗАПОЛНЯЮЩЕЙ МАССИВ(ЦЕЛОЕ ИЛИ ВЕЩЕСТВЕННОЕ ЧИСЛО, СИМВОЛ, ЛОГИЧЕСКОЕ ЗНАЧЕНИЕ)\n",
    "X.dtype"
   ]
  },
  {
   "cell_type": "code",
   "execution_count": 16,
   "metadata": {},
   "outputs": [
    {
     "name": "stdout",
     "output_type": "stream",
     "text": [
      "[[ 2  6 10 14 18]\n",
      " [22 26 30 34 38]\n",
      " [42 46 50 54 58]\n",
      " [62 66 70 74 78]\n",
      " [82 86 90 94 98]]\n"
     ]
    }
   ],
   "source": [
    "# ВОСПРОИЗВОДИМ АНАЛИЗИРУЕМЫЙ МАССИВ\n",
    "print(X)"
   ]
  },
  {
   "cell_type": "code",
   "execution_count": 17,
   "metadata": {},
   "outputs": [
    {
     "data": {
      "text/plain": [
       "array([[22, 26],\n",
       "       [42, 46]])"
      ]
     },
     "execution_count": 17,
     "metadata": {},
     "output_type": "execute_result"
    }
   ],
   "source": [
    "# ПОЛУЧАЕМ ПОДМАССИВ (ИНАЧЕ, \"СРЕЗ\") ИЗ ИСХОДНОГО МАССИВА (C 1-Й СТРОКИ ВКЛЮЧИТЕЛЬНО ДО 3-Й СТРОКИ\n",
    "# НЕВКЛЮЧИТЕЛЬНО И С 0-ГО СТОЛБЦА ВКЛЮЧИТЕЛЬНО ДО 2-ГО СТОЛБЦА НЕВКЛЮЧИТЕЛЬНО)\n",
    "X_subset_row_1_3_col_0_2 = X[1:3, 0:2]\n",
    "X_subset_row_1_3_col_0_2"
   ]
  },
  {
   "cell_type": "code",
   "execution_count": 18,
   "metadata": {},
   "outputs": [
    {
     "data": {
      "text/plain": [
       "22"
      ]
     },
     "execution_count": 18,
     "metadata": {},
     "output_type": "execute_result"
    }
   ],
   "source": [
    "# ПОЛУЧАЕМ ОТДЕЛЬНОЕ ЗНАЧЕНИЕ (ПОДМАССИВ РАЗМЕРНОСТЬЮ 1 х 1) ИЗ ИСХОДНОГО МАССИВА\n",
    "# (НАХОДЯЩЕЕСЯ НА ПЕРЕСЕЧЕНИИ 1-Й СТРОКИ И 0-ГО СТОЛБЦА)\n",
    "X_subset_row_1_col_0 = X[1,0]\n",
    "X_subset_row_1_col_0"
   ]
  },
  {
   "cell_type": "markdown",
   "metadata": {},
   "source": [
    "### 1.4. Операции с объектами ***numpy***"
   ]
  },
  {
   "cell_type": "code",
   "execution_count": 19,
   "metadata": {},
   "outputs": [
    {
     "data": {
      "text/plain": [
       "array([[0, 1, 2, 3, 4],\n",
       "       [5, 6, 7, 8, 9]])"
      ]
     },
     "execution_count": 19,
     "metadata": {},
     "output_type": "execute_result"
    }
   ],
   "source": [
    "# ЗАПОЛНЯЕМ МАССИВ ЗНАЧЕНИЯМИ ПО СТРОКАМ\n",
    "X_horizont = np.arange(10).reshape(2, 5)\n",
    "X_horizont"
   ]
  },
  {
   "cell_type": "code",
   "execution_count": 20,
   "metadata": {},
   "outputs": [
    {
     "data": {
      "text/plain": [
       "array([[ 20,  60, 100, 140, 180],\n",
       "       [220, 260, 300, 340, 380],\n",
       "       [420, 460, 500, 540, 580],\n",
       "       [620, 660, 700, 740, 780],\n",
       "       [820, 860, 900, 940, 980]])"
      ]
     },
     "execution_count": 20,
     "metadata": {},
     "output_type": "execute_result"
    }
   ],
   "source": [
    "# УМНОЖАЕМ МАССИВ НА ЧИСЛО\n",
    "X * 10"
   ]
  },
  {
   "cell_type": "code",
   "execution_count": 21,
   "metadata": {},
   "outputs": [
    {
     "data": {
      "text/plain": [
       "array([[0, 1],\n",
       "       [2, 3],\n",
       "       [4, 5],\n",
       "       [6, 7],\n",
       "       [8, 9]])"
      ]
     },
     "execution_count": 21,
     "metadata": {},
     "output_type": "execute_result"
    }
   ],
   "source": [
    "# ЗАПОЛНЯЕМ МАССИВ ЗНАЧЕНИЯМИ ПО СТОЛБЦАМ - ЭТО НЕ ТРАНСПОНИРОВНИЕ!!!\n",
    "X_vertical = X_horizont.reshape(5, 2)\n",
    "X_vertical"
   ]
  },
  {
   "cell_type": "code",
   "execution_count": 22,
   "metadata": {},
   "outputs": [
    {
     "name": "stdout",
     "output_type": "stream",
     "text": [
      "\n",
      "Изначальный (неотсортированный) массив: [5 8 9 6 1 2 1 4 8 3] \n",
      "\n",
      "Отсортированный массив: [1 1 2 3 4 5 6 8 8 9] \n",
      "\n"
     ]
    }
   ],
   "source": [
    "# ПРОИЗВОДИМ СОРТИРОВКУ ЗНАЧЕНИЙ МАССИВА\n",
    "x_unsort = np.random.randint(1, 10, 10)\n",
    "print('\\nИзначальный (неотсортированный) массив: {}'.format(x_unsort), '\\n')\n",
    "x_sort = np.sort(x_unsort)\n",
    "print('Отсортированный массив: {}'.format(x_sort), '\\n')"
   ]
  },
  {
   "cell_type": "code",
   "execution_count": 23,
   "metadata": {},
   "outputs": [
    {
     "name": "stdout",
     "output_type": "stream",
     "text": [
      "Минимальное значение: 2; \n",
      "\n",
      "среднее значение: 50.0; \n",
      "\n",
      "максимальное значение: 98\n"
     ]
    }
   ],
   "source": [
    "# НАХОДИМ МИНИМАЛЬНОЕ, СРЕДНЕЕ И МАКСИМАЛЬНОЕ ЗНАЧЕНИЯ ЭЛЕМЕНТОВ В МАССИВЕ\n",
    "print('Минимальное значение: {mini}; \\n\\nсреднее значение: {aver}; \\n\\nмаксимальное значение: {maxi}'\n",
    "      .format(mini=np.min(X), aver=np.mean(X), maxi=np.max(X)))"
   ]
  },
  {
   "cell_type": "code",
   "execution_count": 24,
   "metadata": {},
   "outputs": [
    {
     "name": "stdout",
     "output_type": "stream",
     "text": [
      "[[0]\n",
      " [1]\n",
      " [2]] \n",
      "\n",
      "[0 1 2] \n",
      "\n",
      "[[0 1 2]\n",
      " [1 2 3]\n",
      " [2 3 4]]\n"
     ]
    }
   ],
   "source": [
    "# ПРОИЗВОДИМ ПОЭЛЕМЕНТНОЕ СЛОЖЕНИЕ МАССИВОВ - ЭТО НЕ СЛОЖЕНИЕ МАТРИЦ!!!\n",
    "a = np.arange(3).reshape(3, 1)\n",
    "b = np.arange(3)\n",
    "c = a + b\n",
    "print(a, '\\n')\n",
    "print(b, '\\n')\n",
    "print(c)"
   ]
  },
  {
   "cell_type": "code",
   "execution_count": 25,
   "metadata": {},
   "outputs": [
    {
     "data": {
      "text/plain": [
       "array([[0, 0, 0],\n",
       "       [0, 1, 2],\n",
       "       [0, 2, 4]])"
      ]
     },
     "execution_count": 25,
     "metadata": {},
     "output_type": "execute_result"
    }
   ],
   "source": [
    "# ПРОИЗВОДИМ ПОЭЛЕМЕНТНОЕ УМНОЖЕНИЕ МАССИВОВ - ЭТО НЕ УМНОЖЕНИЕ МАТРИЦ!!!\n",
    "a * b"
   ]
  },
  {
   "cell_type": "code",
   "execution_count": 26,
   "metadata": {},
   "outputs": [
    {
     "data": {
      "text/plain": [
       "array([[ 0,  0,  0],\n",
       "       [ 0,  1,  4],\n",
       "       [ 0,  4, 16]], dtype=int32)"
      ]
     },
     "execution_count": 26,
     "metadata": {},
     "output_type": "execute_result"
    }
   ],
   "source": [
    "# ВОЗВЕДЕНИЕ В СТЕПЕНЬ ЭЛЕМЕНТОВ МАССИВА\n",
    "np.power(a * b, 2)"
   ]
  },
  {
   "cell_type": "code",
   "execution_count": 27,
   "metadata": {},
   "outputs": [
    {
     "name": "stdout",
     "output_type": "stream",
     "text": [
      "Значения синуса для элементов массива а: \n",
      "[[ 0.        ]\n",
      " [ 0.84147098]\n",
      " [ 0.90929743]]\n",
      "Значения косинуса для элементов массива b: \n",
      "[[ 1.        ]\n",
      " [ 0.54030231]\n",
      " [-0.41614684]]\n"
     ]
    }
   ],
   "source": [
    "# НАХОЖДЕНИЕ ТРИГОНОМЕТРИЧЕСКИХ ФУНКЦИЙ\n",
    "print('Значения синуса для элементов массива а: \\n{}'.format(np.sin(a)))\n",
    "\n",
    "print('Значения косинуса для элементов массива b: \\n{}'.format(np.cos(b).reshape(b.shape[0], 1)))"
   ]
  },
  {
   "cell_type": "code",
   "execution_count": 28,
   "metadata": {},
   "outputs": [
    {
     "name": "stdout",
     "output_type": "stream",
     "text": [
      "Логарифмы числа С: \n",
      "а) по основанию два [ 2.32192809  2.80735492  3.169925  ]; \n",
      "б) натуральный [ 1.60943791  1.94591015  2.19722458]; \n",
      "в) десятичный [ 0.69897     0.84509804  0.95424251]\n"
     ]
    }
   ],
   "source": [
    "# НАХОЖДЕНИЕ ЛОГАРИФМОВ ПО РАЗЛИЧНЫМ ОСНОВАНИЯМ\n",
    "c = np.array([5,7,9])\n",
    "print('Логарифмы числа С: \\nа) по основанию два {}; \\nб) натуральный {}; \\nв) десятичный {}'\n",
    "      .format(np.log2(c), np.log(c), np.log10(c)))"
   ]
  },
  {
   "cell_type": "markdown",
   "metadata": {},
   "source": [
    "### 1.4.1. Матричный режим"
   ]
  },
  {
   "cell_type": "code",
   "execution_count": 29,
   "metadata": {},
   "outputs": [
    {
     "name": "stdout",
     "output_type": "stream",
     "text": [
      "Матрица А размерностью 3 х 4: \n",
      "[[ 0  1  2  3]\n",
      " [ 4  5  6  7]\n",
      " [ 8  9 10 11]] \n",
      "\n",
      "Матрица B размерностью 3 х 4: \n",
      "[[13 14 15 16]\n",
      " [17 18 19 20]\n",
      " [21 22 23 24]] \n",
      "\n",
      "Матрица C размерностью 4 x 1 (вектор-столбец): \n",
      "[[0]\n",
      " [1]\n",
      " [2]\n",
      " [3]] \n",
      "\n",
      "Одномерный массив длиною 4: [0 1 2 3] \n",
      "\n"
     ]
    }
   ],
   "source": [
    "# СОЗДАЕМ ТРИ МАТРИЦЫ (ДВЕ МАТРИЦЫ И ОДИН ВЕКТОР-СТОЛБЕЦ)\n",
    "A = np.arange(12).reshape(3, 4)\n",
    "B = np.arange(13, 25).reshape(3,4)\n",
    "C = np.arange(4).reshape(4,1)\n",
    "D = np.arange(4)\n",
    "print('Матрица А размерностью 3 х 4: \\n{}'.format(A), '\\n')\n",
    "print('Матрица B размерностью 3 х 4: \\n{}'.format(B), '\\n')\n",
    "print('Матрица C размерностью 4 x 1 (вектор-столбец): \\n{}'.format(C), '\\n')\n",
    "print('Одномерный массив длиною 4: %s' %D, '\\n')"
   ]
  },
  {
   "cell_type": "code",
   "execution_count": 30,
   "metadata": {},
   "outputs": [
    {
     "data": {
      "text/plain": [
       "array([[ 0,  4,  8],\n",
       "       [ 1,  5,  9],\n",
       "       [ 2,  6, 10],\n",
       "       [ 3,  7, 11]])"
      ]
     },
     "execution_count": 30,
     "metadata": {},
     "output_type": "execute_result"
    }
   ],
   "source": [
    "# ТРАНСПОНИРУЕМ МАТРИЦУ А (РАЗМЕРНОСТЬЮ 3 Х 4) И ПОЛУЧАЕМ МАТРИЦУ Аt (РАЗМЕРНОСТЬЮ 4 Х 3)\n",
    "np.transpose(A)"
   ]
  },
  {
   "cell_type": "code",
   "execution_count": 31,
   "metadata": {},
   "outputs": [
    {
     "name": "stdout",
     "output_type": "stream",
     "text": [
      "[[0]\n",
      " [1]\n",
      " [2]\n",
      " [3]]\n",
      "[[0 1 2 3]]\n"
     ]
    }
   ],
   "source": [
    "# ТРАНСПОРИНУЕМ ВЕКТОР-СТОЛБЕЦ С (МАТРИЦУ РАЗМЕРНОСТЬЮ 4 Х 1) И ПОЛУЧАЕМ ВЕКТОР-СТРОКУ\n",
    "print(C)\n",
    "print(np.transpose(C))"
   ]
  },
  {
   "cell_type": "code",
   "execution_count": 32,
   "metadata": {},
   "outputs": [
    {
     "name": "stdout",
     "output_type": "stream",
     "text": [
      "[0 1 2 3]\n",
      "[0 1 2 3]\n"
     ]
    }
   ],
   "source": [
    "# ТРАНСПОНИРУЕМ ОДНОМЕРНЫЙ МАССИВ D - БЕЗРЕЗУЛЬТАТНО\n",
    "print(D)\n",
    "print(np.transpose(D))"
   ]
  },
  {
   "cell_type": "code",
   "execution_count": 33,
   "metadata": {},
   "outputs": [
    {
     "data": {
      "text/plain": [
       "array([[14],\n",
       "       [38],\n",
       "       [62]])"
      ]
     },
     "execution_count": 33,
     "metadata": {},
     "output_type": "execute_result"
    }
   ],
   "source": [
    "# УМНОЖАЕМ МАТРИЦУ А (РАЗМЕРНОСТЬЮ 3 Х 4) НА МАТРИЦУ С (РАЗМЕРНОСТЬЮ 4 Х 1) И ПОЛУЧАЕМ ВЕКТОР-СТОЛБЕЦ \n",
    "# (МАТРИЦУ РАЗМЕРНОСТЬЮ 4 Х 1)\n",
    "np.dot(A, C)"
   ]
  },
  {
   "cell_type": "code",
   "execution_count": 34,
   "metadata": {},
   "outputs": [
    {
     "name": "stdout",
     "output_type": "stream",
     "text": [
      "Исходная матрица Е: \n",
      "[[ 3  5]\n",
      " [ 7 11]] \n",
      "\n",
      "Обратная матрица E_inv: \n",
      "[[-5.5  2.5]\n",
      " [ 3.5 -1.5]]\n"
     ]
    }
   ],
   "source": [
    "# СОЗДАЕМ КВАДРАТНУЮ МАТРИЦУ И НАХОДИМ ЕЕ ОБРАТНУЮ МАТРИЦУ\n",
    "E = np.array([3,5,7,11]).reshape(2,2)\n",
    "E_inv = np.linalg.inv(E)\n",
    "print('Исходная матрица Е: \\n{} \\n\\nОбратная матрица E_inv: \\n{}'.format(E, E_inv))"
   ]
  },
  {
   "cell_type": "code",
   "execution_count": 35,
   "metadata": {},
   "outputs": [
    {
     "name": "stdout",
     "output_type": "stream",
     "text": [
      "[[  1.00000000e+00  -8.88178420e-16]\n",
      " [  0.00000000e+00   1.00000000e+00]]\n"
     ]
    }
   ],
   "source": [
    "# ПЕРЕМНОЖАЕМ ИСХОДНУЮ И ОБРАТНУЮ ЕЙ МАТРИЦЫ И ПОЛУЧАЕМ ЕДИНИЧНУЮ МАТРИЦУ\n",
    "print(np.dot(E, E_inv))"
   ]
  },
  {
   "cell_type": "code",
   "execution_count": 36,
   "metadata": {},
   "outputs": [
    {
     "data": {
      "text/plain": [
       "-1.9999999999999989"
      ]
     },
     "execution_count": 36,
     "metadata": {},
     "output_type": "execute_result"
    }
   ],
   "source": [
    "# ВЫЧИСЛЯЕМ ОПРЕДЕЛИТЕЛЬ МАТРИЦЫ Е\n",
    "np.linalg.det(E)"
   ]
  },
  {
   "cell_type": "code",
   "execution_count": 37,
   "metadata": {},
   "outputs": [
    {
     "data": {
      "text/plain": [
       "(2,)"
      ]
     },
     "execution_count": 37,
     "metadata": {},
     "output_type": "execute_result"
    }
   ],
   "source": [
    "# ВВЕДЕМ ВЕКТОР-СТОЛБЕЦ С ЧИСЛОМ СТРОК, РАВНЫМ ЧИСЛУ СТОЛБЦОВ МАТРИЦЫ Е\n",
    "F = np.array([2,4])\n",
    "F.shape"
   ]
  },
  {
   "cell_type": "code",
   "execution_count": 38,
   "metadata": {},
   "outputs": [
    {
     "name": "stdout",
     "output_type": "stream",
     "text": [
      "\n",
      "Корни системы уравнений: x1 = -1.000; x2 = 1.000\n",
      "\n"
     ]
    }
   ],
   "source": [
    "# НАХОДИМ КОРНИ СИСТЕМЫ УРАВНЕНИЙ: Ex = F \n",
    "# 3 * x1 + 5 * x2 = 2\n",
    "# 7 * x1 + 11 * x2 = 4\n",
    "\n",
    "routs = np.linalg.solve(E,F)\n",
    "print('\\nКорни системы уравнений: x1 = {x1:.3f}; x2 = {x2:.3f}\\n'.format(x1=routs[0], x2=routs[1]))"
   ]
  },
  {
   "cell_type": "markdown",
   "metadata": {},
   "source": [
    "### Переходим к ***pandas*** "
   ]
  }
 ],
 "metadata": {
  "anaconda-cloud": {},
  "kernelspec": {
   "display_name": "Python 3",
   "language": "python",
   "name": "python3"
  },
  "language_info": {
   "codemirror_mode": {
    "name": "ipython",
    "version": 3
   },
   "file_extension": ".py",
   "mimetype": "text/x-python",
   "name": "python",
   "nbconvert_exporter": "python",
   "pygments_lexer": "ipython3",
   "version": "3.6.5"
  }
 },
 "nbformat": 4,
 "nbformat_minor": 1
}
